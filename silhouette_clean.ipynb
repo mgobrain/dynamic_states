{
  "nbformat": 4,
  "nbformat_minor": 0,
  "metadata": {
    "kernelspec": {
      "display_name": "Python 3",
      "language": "python",
      "name": "python3"
    },
    "language_info": {
      "codemirror_mode": {
        "name": "ipython",
        "version": 3
      },
      "file_extension": ".py",
      "mimetype": "text/x-python",
      "name": "python",
      "nbconvert_exporter": "python",
      "pygments_lexer": "ipython3",
      "version": "3.7.9"
    },
    "colab": {
      "name": "silhouette_clean.ipynb",
      "provenance": []
    }
  },
  "cells": [
    {
      "cell_type": "code",
      "metadata": {
        "scrolled": true,
        "id": "qgvpHp2SHpPd"
      },
      "source": [
        "from sklearn.cluster import KMeans\n",
        "from sklearn.metrics import silhouette_samples, silhouette_score\n",
        "from sklearn.preprocessing import StandardScaler\n",
        "from sklearn.decomposition import PCA\n",
        "import matplotlib.pyplot as plt\n",
        "import matplotlib.cm as cm\n",
        "import numpy as np\n",
        "import pandas as pd\n",
        "\n",
        "import pickle"
      ],
      "execution_count": null,
      "outputs": []
    },
    {
      "cell_type": "code",
      "metadata": {
        "id": "rh4RcwXkHpPv"
      },
      "source": [
        "# load the oringial data matrix\n",
        "orig = pickle.load(open(PATHTOFILE,'rb'))\n",
        "orig = orig.drop('date',axis=1)"
      ],
      "execution_count": null,
      "outputs": []
    },
    {
      "cell_type": "code",
      "metadata": {
        "scrolled": true,
        "id": "4FTvLtsrHpPz",
        "outputId": "50c314fd-e844-494d-f188-64839bb809ad"
      },
      "source": [
        "# parameters for clustering\n",
        "range_n_clusters = range(2,15,1)\n",
        "method = 'kmeans'\n",
        "\n",
        "# preprocessing\n",
        "scaler = StandardScaler()\n",
        "X = orig.copy()\n",
        "dc = FactorAnalysis(random_state=0,n_components=3)\n",
        "X = scaler.fit_transform(X)\n",
        "X = dc.fit_transform(X)\n",
        "print(X.shape)"
      ],
      "execution_count": null,
      "outputs": [
        {
          "output_type": "stream",
          "text": [
            "(1446, 3)\n"
          ],
          "name": "stdout"
        }
      ]
    },
    {
      "cell_type": "code",
      "metadata": {
        "id": "N3ej18QhHpP7",
        "outputId": "ba4e7bea-7b7d-4570-924e-a6979ce7f6b3"
      },
      "source": [
        "#silhouette plot\n",
        "score_dict = {}\n",
        "for n_clusters in range_n_clusters:\n",
        "    clusterer = KMeans(n_clusters=n_clusters,random_state=0)\n",
        "    cluster_labels = clusterer.fit_predict(X)\n",
        "    silhouette_avg = silhouette_score(X, cluster_labels)\n",
        "    score_dict[n_clusters] = silhouette_avg\n",
        "\n",
        "plt.plot(list(score_dict.keys()),list(score_dict.values()),marker='o')\n",
        "plt.title(\n",
        "    'Average silhouette scores for {} to {} clusters'.format(\n",
        "        min(range_n_clusters),max(range_n_clusters)))\n",
        "plt.xlabel('Clusters')\n",
        "plt.ylabel('Score')\n",
        "print(pd.Series(score_dict))"
      ],
      "execution_count": null,
      "outputs": [
        {
          "output_type": "stream",
          "text": [
            "2     0.412582\n",
            "3     0.398368\n",
            "4     0.428974\n",
            "5     0.431107\n",
            "6     0.363972\n",
            "7     0.381656\n",
            "8     0.391349\n",
            "9     0.395093\n",
            "10    0.390502\n",
            "11    0.387866\n",
            "12    0.352000\n",
            "13    0.353856\n",
            "14    0.345793\n",
            "dtype: float64\n"
          ],
          "name": "stdout"
        },
        {
          "output_type": "display_data",
          "data": {
            "image/png": "[encoded data removed]",
            "text/plain": [
              "<Figure size 432x288 with 1 Axes>"
            ]
          },
          "metadata": {
            "tags": [],
            "needs_background": "light"
          }
        }
      ]
    },
    {
      "cell_type": "code",
      "metadata": {
        "id": "4esUqPGoHpQA",
        "outputId": "b2189f6a-2808-490e-bf5a-7610c7469d86"
      },
      "source": [
        "# clustering for selected hyperparameters:\n",
        "# in this example, 3 factors and 5 clusters\n",
        "clusterer = KMeans(n_clusters=5,random_state=0)\n",
        "clusterer.fit(X)\n",
        "# transform centroids back to original scale\n",
        "cc_raw = scaler.inverse_transform(\n",
        "    np.dot(clusterer.cluster_centers_,dc.components_))\n",
        "cc_raw = pd.DataFrame(cc_raw,columns=orig.columns)\n",
        "for comp in range(len(cc_raw)):\n",
        "    display(cc_raw.T[comp].sort_values(ascending=False)[:9])"
      ],
      "execution_count": null,
      "outputs": [
        {
          "output_type": "display_data",
          "data": {
            "text/plain": [
              "hamd_depression         0.774183\n",
              "hamd_anxiety_somatic    0.758251\n",
              "hamd_anxiety_psychic    0.590497\n",
              "hamd_apathy             0.451863\n",
              "hamd_somatic_general    0.382672\n",
              "ymrs_irritability       0.372531\n",
              "hamd_guilt              0.352404\n",
              "hamd_insomnia_early     0.314805\n",
              "hamd_agitation          0.284769\n",
              "Name: 0, dtype: float64"
            ]
          },
          "metadata": {
            "tags": []
          }
        },
        {
          "output_type": "display_data",
          "data": {
            "text/plain": [
              "hamd_depression         2.217758\n",
              "hamd_apathy             1.945567\n",
              "hamd_anxiety_somatic    1.373091\n",
              "hamd_anxiety_psychic    1.345002\n",
              "hamd_somatic_general    1.266879\n",
              "hamd_guilt              1.133277\n",
              "hamd_agitation          0.895326\n",
              "hamd_insomnia_early     0.830094\n",
              "hamd_insomnia_mid       0.703418\n",
              "Name: 1, dtype: float64"
            ]
          },
          "metadata": {
            "tags": []
          }
        },
        {
          "output_type": "display_data",
          "data": {
            "text/plain": [
              "ymrs_hyperverbal         2.518755\n",
              "ymrs_increased_energy    1.901841\n",
              "ymrs_elevated_mood       1.541277\n",
              "ymrs_thought_disorder    1.038754\n",
              "ymrs_decreased_sleep     0.938024\n",
              "hamd_depression          0.768786\n",
              "hamd_anxiety_somatic     0.753405\n",
              "ymrs_grandiosity         0.709435\n",
              "ymrs_irritability        0.652102\n",
              "Name: 2, dtype: float64"
            ]
          },
          "metadata": {
            "tags": []
          }
        },
        {
          "output_type": "display_data",
          "data": {
            "text/plain": [
              "ymrs_irritability       3.189466\n",
              "hamd_depression         1.748982\n",
              "hamd_anxiety_psychic    1.692763\n",
              "ymrs_aggression         1.644627\n",
              "hamd_anxiety_somatic    1.531492\n",
              "hamd_apathy             1.497368\n",
              "hamd_guilt              1.144982\n",
              "hamd_agitation          1.077842\n",
              "hamd_somatic_general    0.991547\n",
              "Name: 3, dtype: float64"
            ]
          },
          "metadata": {
            "tags": []
          }
        },
        {
          "output_type": "display_data",
          "data": {
            "text/plain": [
              "ymrs_hyperverbal         3.812884\n",
              "ymrs_increased_energy    2.759282\n",
              "ymrs_irritability        2.747331\n",
              "ymrs_elevated_mood       2.088438\n",
              "ymrs_thought_disorder    1.728547\n",
              "ymrs_decreased_sleep     1.512226\n",
              "ymrs_aggression          1.432379\n",
              "hamd_anxiety_psychic     1.237090\n",
              "hamd_anxiety_somatic     1.155428\n",
              "Name: 4, dtype: float64"
            ]
          },
          "metadata": {
            "tags": []
          }
        }
      ]
    },
    {
      "cell_type": "code",
      "metadata": {
        "id": "VnXjV7KYHpQF",
        "outputId": "3db3b46a-34b5-480d-8b3c-4d600364890c"
      },
      "source": [
        "# assign observations in original data matrix to clusters\n",
        "clusterer.cluster_centers_ = cc_raw.values\n",
        "pred = clusterer.fit_predict(X)\n",
        "for i in range(len(cc_raw)):\n",
        "    print(i,len([n for n in pred if n==i]))"
      ],
      "execution_count": null,
      "outputs": [
        {
          "output_type": "stream",
          "text": [
            "0 716\n",
            "1 316\n",
            "2 209\n",
            "3 114\n",
            "4 91\n"
          ],
          "name": "stdout"
        }
      ]
    }
  ]
}